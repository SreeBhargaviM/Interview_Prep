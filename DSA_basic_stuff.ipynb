{
  "nbformat": 4,
  "nbformat_minor": 0,
  "metadata": {
    "colab": {
      "name": "DSA_basic_stuff.ipynb",
      "provenance": [],
      "authorship_tag": "ABX9TyOdM2S8efT34prMaC0kwBc6",
      "include_colab_link": true
    },
    "kernelspec": {
      "name": "python3",
      "display_name": "Python 3"
    },
    "language_info": {
      "name": "python"
    }
  },
  "cells": [
    {
      "cell_type": "markdown",
      "metadata": {
        "id": "view-in-github",
        "colab_type": "text"
      },
      "source": [
        "<a href=\"https://colab.research.google.com/github/SreeBhargaviM/Interview_Prep/blob/main/DSA_basic_stuff.ipynb\" target=\"_parent\"><img src=\"https://colab.research.google.com/assets/colab-badge.svg\" alt=\"Open In Colab\"/></a>"
      ]
    },
    {
      "cell_type": "code",
      "execution_count": null,
      "metadata": {
        "id": "8B1nFApUUd3I"
      },
      "outputs": [],
      "source": [
        "#Convert number to roman numerals\n",
        "def convert_roman(n):\n",
        "  rom_map = {1:[\"I\", \"II\", \"III\", \"IV\", \"V\", \"VI\", \"VII\", \"VIII\", \"IX\", \"X\"]}\n",
        "  num_digits = len(str(n))\n",
        "  roman = \"\"\n",
        "  for i in reversed(range(num_digits)):\n",
        "    place = i+1\n"
      ]
    },
    {
      "cell_type": "code",
      "source": [
        "len(str(1234))"
      ],
      "metadata": {
        "colab": {
          "base_uri": "https://localhost:8080/"
        },
        "id": "Edj2dYeLUwVd",
        "outputId": "488c635b-f642-4c3a-a16d-031f69199412"
      },
      "execution_count": 1,
      "outputs": [
        {
          "output_type": "execute_result",
          "data": {
            "text/plain": [
              "4"
            ]
          },
          "metadata": {},
          "execution_count": 1
        }
      ]
    },
    {
      "cell_type": "code",
      "source": [
        "#max sum of subarray of length k\n",
        "def max_sub_sum(l, k):\n",
        "  max_sum = 0\n",
        "  arr = []\n",
        "  for i in range(0, len(l)-1-k):\n",
        "    sub_arr = l[i:i+k]\n",
        "    if sum(sub_arr)>max_sum:\n",
        "      max_sum = sum(sub_arr)\n",
        "      arr = sub_arr\n",
        "  return max_sum, arr"
      ],
      "metadata": {
        "id": "kDr4zIEEXO5Z"
      },
      "execution_count": 2,
      "outputs": []
    },
    {
      "cell_type": "code",
      "source": [
        "l = [1, 4, 2, 10, 23, 3, 1, 0, 20]\n",
        "k = 4"
      ],
      "metadata": {
        "id": "7PLwp33NX7uO"
      },
      "execution_count": 3,
      "outputs": []
    },
    {
      "cell_type": "code",
      "source": [
        "max_sub_sum(l, k)"
      ],
      "metadata": {
        "colab": {
          "base_uri": "https://localhost:8080/"
        },
        "id": "FxTJQtGTYBFC",
        "outputId": "a91ffbc5-d165-4bc0-9b65-d6f9a85e11d6"
      },
      "execution_count": 4,
      "outputs": [
        {
          "output_type": "execute_result",
          "data": {
            "text/plain": [
              "(39, [4, 2, 10, 23])"
            ]
          },
          "metadata": {},
          "execution_count": 4
        }
      ]
    },
    {
      "cell_type": "code",
      "source": [
        "#fibbonacci: print all fibonnaci numbers less than a given number\n",
        "def fibo(n):\n",
        "  check = 1\n",
        "  fibs = [1, 1]\n",
        "  i = 1\n",
        "  while check<n:\n",
        "    \n",
        "    fib_next = fibs[i]+fibs[i-1]\n",
        "    i += 1\n",
        "    check = fib_next\n",
        "    fibs.append(fib_next)\n",
        "  print(fibs[:len(fibs)-1])"
      ],
      "metadata": {
        "id": "0fTc8IVnYJOZ"
      },
      "execution_count": 3,
      "outputs": []
    },
    {
      "cell_type": "code",
      "source": [
        "fibo(9)"
      ],
      "metadata": {
        "colab": {
          "base_uri": "https://localhost:8080/"
        },
        "id": "VQQxBI8Halab",
        "outputId": "7224f195-3ddb-449e-b4ee-d02e685e7602"
      },
      "execution_count": 5,
      "outputs": [
        {
          "output_type": "stream",
          "name": "stdout",
          "text": [
            "[1, 1, 2, 3, 5, 8]\n"
          ]
        }
      ]
    }
  ]
}